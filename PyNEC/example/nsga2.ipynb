{
 "cells": [
  {
   "cell_type": "code",
   "execution_count": 19,
   "metadata": {},
   "outputs": [],
   "source": [
    "import numpy as np\n",
    "import random\n",
    "import matplotlib.pyplot as plt\n",
    "from deap import base, creator, tools, algorithms\n",
    "from PyNEC import *\n",
    "from antenna_util import *\n",
    "from context_clean import *\n",
    "import math"
   ]
  },
  {
   "cell_type": "code",
   "execution_count": 6,
   "metadata": {},
   "outputs": [],
   "source": [
    "brass_conductivity = 15600000 # mhos\n",
    "tl_impedance = 75.0\n",
    "frequency_ranges = ((2350, 2550), (4950, 5050))\n",
    "system_impedance = 50\n",
    "design_freq_mhz = 2450\n",
    "wavelength = 299792e3 / (design_freq_mhz * 1e6)"
   ]
  },
  {
   "cell_type": "code",
   "execution_count": 7,
   "metadata": {},
   "outputs": [],
   "source": [
    "def geometry_logperiodic(l_1, x_1, tau):\n",
    "    wire_radius = 0.00025 # 0.25 mm\n",
    "    nec = context_clean(nec_context())\n",
    "    nec.set_extended_thin_wire_kernel(True)\n",
    "    geo = geometry_clean(nec.get_geometry())\n",
    "\n",
    "    x_i = x_1\n",
    "    l_i = l_1\n",
    "    \n",
    "    dipole_center_segs = {}\n",
    "    dipoles_count = 6\n",
    "\n",
    "    for dipole_tag in range(1, dipoles_count + 1):\n",
    "        nr_segments = int(math.ceil(50*l_i/wavelength))\n",
    "        dipole_center_segs[dipole_tag] = nr_segments // 2 + 1\n",
    "        center = np.array([x_i, 0, 0])\n",
    "        half_height = np.array([0, 0, l_i/2.0])\n",
    "        top = center + half_height\n",
    "        bottom = center - half_height\n",
    "        geo.wire(tag_id=dipole_tag, nr_segments=nr_segments, src=bottom, dst=top, radius=wire_radius)\n",
    "        x_i = tau * x_i\n",
    "        l_i = tau * l_i\n",
    "\n",
    "    nec.set_wire_conductivity(brass_conductivity)\n",
    "    nec.geometry_complete(ground_plane=False)\n",
    "\n",
    "    for dipole in range(0, dipoles_count - 1):\n",
    "        src_tag = int(1 + dipole)\n",
    "        src_seg = dipole_center_segs[src_tag]\n",
    "        dst_tag = src_tag + 1\n",
    "        dst_seg = dipole_center_segs[dst_tag]\n",
    "        nec.transmission_line((src_tag, src_seg), (dst_tag, dst_seg), tl_impedance, crossed_line=True)\n",
    "\n",
    "    smallest_dipole_tag = dipoles_count\n",
    "    nec.voltage_excitation(wire_tag=smallest_dipole_tag, segment_nr=dipole_center_segs[smallest_dipole_tag], voltage=1.0)\n",
    "\n",
    "    return nec\n"
   ]
  },
  {
   "cell_type": "code",
   "execution_count": 8,
   "metadata": {},
   "outputs": [],
   "source": [
    "def get_gain_swr_range(l_1, x_1, tau, start=2300, stop=5900, step=10):\n",
    "    gains_db = []\n",
    "    frequencies = []\n",
    "    vswrs = []\n",
    "    for freq in range(start, stop + 1, step):\n",
    "        nec = geometry_logperiodic(l_1, x_1, tau)\n",
    "        nec.set_frequency(freq)\n",
    "        nec.radiation_pattern(thetas=Range(90, 90, count=1), phis=Range(180, 180, count=1))\n",
    "        rp = nec.context.get_radiation_pattern(0)\n",
    "        ipt = nec.get_input_parameters(0)\n",
    "        z = ipt.get_impedance()\n",
    "        gains_db.append(rp.get_gain()[0])\n",
    "        vswrs.append(vswr(z, system_impedance))\n",
    "        frequencies.append(ipt.get_frequency())\n",
    "\n",
    "    return frequencies, gains_db, vswrs"
   ]
  },
  {
   "cell_type": "code",
   "execution_count": 9,
   "metadata": {},
   "outputs": [],
   "source": [
    "# Função para calcular ganho e VSWR\n",
    "def get_gain_swr_range(l_1, x_1, tau, start=2300, stop=5900, step=10):\n",
    "    gains_db = []\n",
    "    frequencies = []\n",
    "    vswrs = []\n",
    "    for freq in range(start, stop + 1, step):\n",
    "        nec = geometry_logperiodic(l_1, x_1, tau)\n",
    "        nec.set_frequency(freq)\n",
    "        nec.radiation_pattern(thetas=Range(90, 90, count=1), phis=Range(180, 180, count=1))\n",
    "        rp = nec.context.get_radiation_pattern(0)\n",
    "        ipt = nec.get_input_parameters(0)\n",
    "        z = ipt.get_impedance()\n",
    "        gains_db.append(rp.get_gain()[0])\n",
    "        vswrs.append(vswr(z, system_impedance))\n",
    "        frequencies.append(ipt.get_frequency())\n",
    "    return frequencies, gains_db, vswrs\n"
   ]
  },
  {
   "cell_type": "code",
   "execution_count": 10,
   "metadata": {},
   "outputs": [],
   "source": [
    "def optimization_targets(args):\n",
    "    l_1, x_1, tau = args\n",
    "    if l_1 <= 0 or x_1 <= 0 or tau <= 0:\n",
    "        return float('inf'), float('inf')\n",
    "\n",
    "    try:\n",
    "        vswr_score = 0\n",
    "        gains_score = 0\n",
    "\n",
    "        for range_low, range_high in frequency_ranges:\n",
    "            freqs, gains, vswrs = get_gain_swr_range(l_1, x_1, tau, start=range_low, stop=range_high)\n",
    "            gains_score += sum(gains)\n",
    "            for vswr in vswrs:\n",
    "                if vswr >= 1.8:\n",
    "                    vswr = min(np.exp(vswr), 1e6)  # Evitar overflow\n",
    "                vswr_score += vswr\n",
    "                \n",
    "        result1 = - gains_score[0]\n",
    "        result2 = vswr_score\n",
    "\n",
    "    except Exception as e:\n",
    "        print(f\"Caught exception: {e}\")\n",
    "        return float('inf'), float('inf')\n",
    "\n",
    "    # Debugging output\n",
    "    if not np.isscalar(result1) or not np.isscalar(result2):\n",
    "        print(f\"Non-scalar fitness values detected: result1={result1}, result2={result2}\")\n",
    "\n",
    "    # check if is complex\n",
    "    if np.iscomplex(result1) or np.iscomplex(result2):\n",
    "        # return module of complex number\n",
    "        return np.abs(result1), np.abs(result2)\n",
    "\n",
    "    return result1, result2"
   ]
  },
  {
   "cell_type": "code",
   "execution_count": 11,
   "metadata": {},
   "outputs": [],
   "source": [
    "def real_values(args):\n",
    "    l_1, x_1, tau = args\n",
    "    if l_1 <= 0 or x_1 <= 0 or tau <= 0:\n",
    "        return float('inf'), float('inf')\n",
    "\n",
    "    try:\n",
    "        vswr_score = 0\n",
    "        gains_score = 0\n",
    "        iter = 0\n",
    "\n",
    "        for range_low, range_high in frequency_ranges:\n",
    "            freqs, gains, vswrs = get_gain_swr_range(l_1, x_1, tau, start=range_low, stop=range_high)\n",
    "            gains_score += sum(gains)\n",
    "            for vswr in vswrs:\n",
    "                vswr_score += vswr\n",
    "            \n",
    "            iter += 1\n",
    "                \n",
    "        result1 = - gains_score[0]\n",
    "        result2 = vswr_score\n",
    "\n",
    "    except Exception as e:\n",
    "        print(f\"Caught exception: {e}\")\n",
    "        return float('inf'), float('inf')\n",
    "\n",
    "    # Debugging output\n",
    "    if not np.isscalar(result1) or not np.isscalar(result2):\n",
    "        print(f\"Non-scalar fitness values detected: result1={result1}, result2={result2}\")\n",
    "\n",
    "    return result1/iter, result2/iter"
   ]
  },
  {
   "cell_type": "code",
   "execution_count": 12,
   "metadata": {},
   "outputs": [],
   "source": [
    "def simulate_and_get_impedance(nec):\n",
    "    nec.set_frequency(design_freq_mhz)\n",
    "    nec.xq_card(0)\n",
    "    index = 0\n",
    "    impedance = nec.get_input_parameters(index).get_impedance()\n",
    "    if isinstance(impedance, np.ndarray):\n",
    "        impedance = impedance[0]\n",
    "    return impedance\n",
    "\n",
    "system_impedance = 50\n",
    "design_freq_mhz = 2450\n",
    "wavelength = 299792e3 / (design_freq_mhz * 1e6)"
   ]
  },
  {
   "cell_type": "code",
   "execution_count": 13,
   "metadata": {},
   "outputs": [],
   "source": [
    "def draw_frequencie_ranges(ax):\n",
    "    ax.axvline(x=frequency_ranges[0][0], color='red', linewidth=1)\n",
    "    ax.axvline(x=frequency_ranges[0][1], color='red', linewidth=1)\n",
    "    ax.axvline(x=frequency_ranges[1][0], color='red', linewidth=1)\n",
    "    ax.axvline(x=frequency_ranges[1][1], color='red', linewidth=1)"
   ]
  },
  {
   "cell_type": "code",
   "execution_count": 14,
   "metadata": {},
   "outputs": [],
   "source": [
    "def show_report(l1, x1, tau):\n",
    "    nec = geometry_logperiodic(l1, x1, tau)\n",
    "    z = simulate_and_get_impedance(nec)\n",
    "    print(f\"Initial impedance: ({z.real:.1f},{z.imag:+.1f}I) Ohms\")\n",
    "    print(f\"VSWR @ 50 Ohm is {vswr(z, 50):.6f}\")\n",
    "\n",
    "    freqs, gains, vswrs = get_gain_swr_range(l1, x1, tau, step=5)\n",
    "    freqs = np.array(freqs) / 1e6\n",
    "\n",
    "    fig, ax1 = plt.subplots()\n",
    "    ax1.plot(freqs, gains, 'b-')\n",
    "    ax1.set_xlabel('Frequency (MHz)')\n",
    "    ax1.set_ylabel('Gain (dB)', color='b')\n",
    "    draw_frequencie_ranges(ax1)\n",
    "\n",
    "    ax2 = ax1.twinx()\n",
    "    ax2.plot(freqs, vswrs, 'r-')\n",
    "    ax2.set_ylabel('VSWR', color='r')\n",
    "    ax2.set_yscale('log')\n",
    "\n",
    "    plt.title(\"Gain and VSWR of a 6-element log-periodic antenna\")\n",
    "    fig.tight_layout()\n",
    "    plt.show()"
   ]
  },
  {
   "cell_type": "code",
   "execution_count": 15,
   "metadata": {},
   "outputs": [],
   "source": [
    "def plot_pareto_front(pop):\n",
    "    \"\"\" Plots the Pareto front given a population \"\"\"\n",
    "    # pareto_front = np.array([ind.fitness.values for ind in pop])\n",
    "\n",
    "    # pareto front using real_values\n",
    "    pareto_front = np.array([real_values(ind) for ind in pop])\n",
    "\n",
    "    plt.scatter(pareto_front[:, 0], pareto_front[:, 1], c='r', label='Pareto Front')\n",
    "    plt.xlabel('VSWR Score - Gains Score')\n",
    "    plt.ylabel('VSWR Score')\n",
    "    plt.title('Pareto Front')\n",
    "    plt.legend()\n",
    "    plt.grid(True)\n",
    "    plt.show()"
   ]
  },
  {
   "cell_type": "code",
   "execution_count": 20,
   "metadata": {},
   "outputs": [],
   "source": [
    "creator.create(\"FitnessMulti\", base.Fitness, weights=(-1.0, -5.0))\n",
    "creator.create(\"Individual\", list, fitness=creator.FitnessMulti)\n",
    "\n",
    "toolbox = base.Toolbox()\n",
    "toolbox.register(\"attr_float_l1\", np.random.uniform, 0.01, 0.2)\n",
    "toolbox.register(\"attr_float_x1\", np.random.uniform, 0.01, 0.2)\n",
    "toolbox.register(\"attr_float_tau\", np.random.uniform, 0.7, 0.9)\n",
    "toolbox.register(\"individual\", tools.initCycle, creator.Individual, \n",
    "                 (toolbox.attr_float_l1, toolbox.attr_float_x1, toolbox.attr_float_tau), n=1)\n",
    "toolbox.register(\"population\", tools.initRepeat, list, toolbox.individual)\n",
    "\n",
    "toolbox.register(\"evaluate\", optimization_targets)\n",
    "toolbox.register(\"mate\", tools.cxBlend, alpha=0.5)\n",
    "toolbox.register(\"mutate\", tools.mutPolynomialBounded, low=[0.01, 0.01, 0.7], up=[0.2, 0.2, 0.9], eta=0.1, indpb=0.2)\n",
    "toolbox.register(\"select\", tools.selNSGA2)\n",
    "\n",
    "def main():\n",
    "    pop = toolbox.population(n=50)\n",
    "    hof = tools.HallOfFame(1)\n",
    "\n",
    "    stats = tools.Statistics(lambda ind: ind.fitness.values)\n",
    "    stats.register(\"avg\", np.mean, axis=0)\n",
    "    stats.register(\"std\", np.std, axis=0)\n",
    "    stats.register(\"min\", np.min, axis=0)\n",
    "    stats.register(\"max\", np.max, axis=0)\n",
    "\n",
    "    algorithms.eaMuPlusLambda(pop, toolbox, mu=50, lambda_=100, cxpb=0.7, mutpb=0.2, ngen=50, stats=stats, halloffame=hof, verbose=True)\n",
    "\n",
    "    return pop, stats, hof"
   ]
  },
  {
   "cell_type": "code",
   "execution_count": 21,
   "metadata": {},
   "outputs": [
    {
     "name": "stdout",
     "output_type": "stream",
     "text": [
      "Wavelength is 0.1224m, initial length is 0.0612m\n",
      "Unoptimized antenna...\n",
      "Initial impedance: (84.7,+4.8I) Ohms\n",
      "VSWR @ 50 Ohm is 1.702385\n"
     ]
    },
    {
     "data": {
      "image/png": "[encoded data removed]",
      "text/plain": [
       "<Figure size 432x288 with 2 Axes>"
      ]
     },
     "metadata": {
      "needs_background": "light"
     },
     "output_type": "display_data"
    },
    {
     "name": "stdout",
     "output_type": "stream",
     "text": [
      "Optimizing antenna with NSGA-II...\n"
     ]
    },
    {
     "name": "stderr",
     "output_type": "stream",
     "text": [
      "/home/henrique/anaconda3/lib/python3.7/site-packages/ipykernel_launcher.py:15: RuntimeWarning: overflow encountered in exp\n",
      "  from ipykernel import kernelapp as app\n"
     ]
    },
    {
     "name": "stdout",
     "output_type": "stream",
     "text": [
      "gen\tnevals\tavg                              \tstd                            \tmin                          \tmax                            \n",
      "0  \t50    \t[-1.19721416e+02  5.37961282e+06]\t[7.07879775e+01 8.64094425e+06]\t[-229.12009266   53.50416373]\t[7.44361956e+01 3.20000000e+07]\n",
      "1  \t87    \t[-1.79397126e+02  1.77204982e+06]\t[3.11122275e+01 4.33634632e+06]\t[-235.46381047   37.81388114]\t[-5.59363838e+01  2.10000161e+07]\n",
      "2  \t92    \t[-1.81302950e+02  7.27875194e+05]\t[4.48464168e+01 2.85027144e+06]\t[-236.51493253   37.81388114]\t[-3.15118744e+01  1.20083267e+07]\n",
      "Caught exception: GEOMETRY DATA ERROR -- FIRST SEGMENT MIDPOINT OF WIRE #4 (TAG ID #4) INTERSECTS WIRE #3 (TAG ID #3)\n",
      "3  \t88    \t[-1.88533547e+02  4.25441604e+05]\t[4.63245297e+01 2.97578554e+06]\t[-241.54710316   37.81388114]\t[-3.15118744e+01  2.12559400e+07]\n",
      "4  \t92    \t[-203.30935075 1631.91673163]    \t[   33.15503853 10265.84572562]\t[-243.69292196   37.81388114]\t[  -97.18913378 73468.62110211]  \n",
      "5  \t88    \t[-222.15473985 1598.95490555]    \t[   21.56974952 10268.35343964]\t[-256.57434413   37.81388114]\t[ -132.10650349 73468.62110211]  \n",
      "6  \t97    \t[-228.91529655   92.92051589]    \t[18.49321717 74.29268477]      \t[-256.57434413   36.66359331]\t[-171.81286867  317.5496187 ]    \n"
     ]
    },
    {
     "ename": "TypeError",
     "evalue": "'>' not supported between instances of 'float' and 'complex'",
     "output_type": "error",
     "traceback": [
      "\u001b[0;31m---------------------------------------------------------------------------\u001b[0m",
      "\u001b[0;31mTypeError\u001b[0m                                 Traceback (most recent call last)",
      "\u001b[0;32m<ipython-input-21-4be68d951d63>\u001b[0m in \u001b[0;36m<module>\u001b[0;34m\u001b[0m\n\u001b[1;32m      8\u001b[0m \u001b[0;34m\u001b[0m\u001b[0m\n\u001b[1;32m      9\u001b[0m \u001b[0mprint\u001b[0m\u001b[0;34m(\u001b[0m\u001b[0;34m\"Optimizing antenna with NSGA-II...\"\u001b[0m\u001b[0;34m)\u001b[0m\u001b[0;34m\u001b[0m\u001b[0;34m\u001b[0m\u001b[0m\n\u001b[0;32m---> 10\u001b[0;31m \u001b[0mpop\u001b[0m\u001b[0;34m,\u001b[0m \u001b[0mstats\u001b[0m\u001b[0;34m,\u001b[0m \u001b[0mhof\u001b[0m \u001b[0;34m=\u001b[0m \u001b[0mmain\u001b[0m\u001b[0;34m(\u001b[0m\u001b[0;34m)\u001b[0m\u001b[0;34m\u001b[0m\u001b[0;34m\u001b[0m\u001b[0m\n\u001b[0m\u001b[1;32m     11\u001b[0m \u001b[0;34m\u001b[0m\u001b[0m\n\u001b[1;32m     12\u001b[0m \u001b[0mbest_ind\u001b[0m \u001b[0;34m=\u001b[0m \u001b[0mhof\u001b[0m\u001b[0;34m[\u001b[0m\u001b[0;36m0\u001b[0m\u001b[0;34m]\u001b[0m\u001b[0;34m\u001b[0m\u001b[0;34m\u001b[0m\u001b[0m\n",
      "\u001b[0;32m<ipython-input-20-0a57ed5bb85a>\u001b[0m in \u001b[0;36mmain\u001b[0;34m()\u001b[0m\n\u001b[1;32m     25\u001b[0m     \u001b[0mstats\u001b[0m\u001b[0;34m.\u001b[0m\u001b[0mregister\u001b[0m\u001b[0;34m(\u001b[0m\u001b[0;34m\"max\"\u001b[0m\u001b[0;34m,\u001b[0m \u001b[0mnp\u001b[0m\u001b[0;34m.\u001b[0m\u001b[0mmax\u001b[0m\u001b[0;34m,\u001b[0m \u001b[0maxis\u001b[0m\u001b[0;34m=\u001b[0m\u001b[0;36m0\u001b[0m\u001b[0;34m)\u001b[0m\u001b[0;34m\u001b[0m\u001b[0;34m\u001b[0m\u001b[0m\n\u001b[1;32m     26\u001b[0m \u001b[0;34m\u001b[0m\u001b[0m\n\u001b[0;32m---> 27\u001b[0;31m     \u001b[0malgorithms\u001b[0m\u001b[0;34m.\u001b[0m\u001b[0meaMuPlusLambda\u001b[0m\u001b[0;34m(\u001b[0m\u001b[0mpop\u001b[0m\u001b[0;34m,\u001b[0m \u001b[0mtoolbox\u001b[0m\u001b[0;34m,\u001b[0m \u001b[0mmu\u001b[0m\u001b[0;34m=\u001b[0m\u001b[0;36m50\u001b[0m\u001b[0;34m,\u001b[0m \u001b[0mlambda_\u001b[0m\u001b[0;34m=\u001b[0m\u001b[0;36m100\u001b[0m\u001b[0;34m,\u001b[0m \u001b[0mcxpb\u001b[0m\u001b[0;34m=\u001b[0m\u001b[0;36m0.7\u001b[0m\u001b[0;34m,\u001b[0m \u001b[0mmutpb\u001b[0m\u001b[0;34m=\u001b[0m\u001b[0;36m0.2\u001b[0m\u001b[0;34m,\u001b[0m \u001b[0mngen\u001b[0m\u001b[0;34m=\u001b[0m\u001b[0;36m50\u001b[0m\u001b[0;34m,\u001b[0m \u001b[0mstats\u001b[0m\u001b[0;34m=\u001b[0m\u001b[0mstats\u001b[0m\u001b[0;34m,\u001b[0m \u001b[0mhalloffame\u001b[0m\u001b[0;34m=\u001b[0m\u001b[0mhof\u001b[0m\u001b[0;34m,\u001b[0m \u001b[0mverbose\u001b[0m\u001b[0;34m=\u001b[0m\u001b[0;32mTrue\u001b[0m\u001b[0;34m)\u001b[0m\u001b[0;34m\u001b[0m\u001b[0;34m\u001b[0m\u001b[0m\n\u001b[0m\u001b[1;32m     28\u001b[0m \u001b[0;34m\u001b[0m\u001b[0m\n\u001b[1;32m     29\u001b[0m     \u001b[0;32mreturn\u001b[0m \u001b[0mpop\u001b[0m\u001b[0;34m,\u001b[0m \u001b[0mstats\u001b[0m\u001b[0;34m,\u001b[0m \u001b[0mhof\u001b[0m\u001b[0;34m\u001b[0m\u001b[0;34m\u001b[0m\u001b[0m\n",
      "\u001b[0;32m~/anaconda3/lib/python3.7/site-packages/deap/algorithms.py\u001b[0m in \u001b[0;36meaMuPlusLambda\u001b[0;34m(population, toolbox, mu, lambda_, cxpb, mutpb, ngen, stats, halloffame, verbose)\u001b[0m\n\u001b[1;32m    314\u001b[0m     \u001b[0;32mfor\u001b[0m \u001b[0mgen\u001b[0m \u001b[0;32min\u001b[0m \u001b[0mrange\u001b[0m\u001b[0;34m(\u001b[0m\u001b[0;36m1\u001b[0m\u001b[0;34m,\u001b[0m \u001b[0mngen\u001b[0m \u001b[0;34m+\u001b[0m \u001b[0;36m1\u001b[0m\u001b[0;34m)\u001b[0m\u001b[0;34m:\u001b[0m\u001b[0;34m\u001b[0m\u001b[0;34m\u001b[0m\u001b[0m\n\u001b[1;32m    315\u001b[0m         \u001b[0;31m# Vary the population\u001b[0m\u001b[0;34m\u001b[0m\u001b[0;34m\u001b[0m\u001b[0;34m\u001b[0m\u001b[0m\n\u001b[0;32m--> 316\u001b[0;31m         \u001b[0moffspring\u001b[0m \u001b[0;34m=\u001b[0m \u001b[0mvarOr\u001b[0m\u001b[0;34m(\u001b[0m\u001b[0mpopulation\u001b[0m\u001b[0;34m,\u001b[0m \u001b[0mtoolbox\u001b[0m\u001b[0;34m,\u001b[0m \u001b[0mlambda_\u001b[0m\u001b[0;34m,\u001b[0m \u001b[0mcxpb\u001b[0m\u001b[0;34m,\u001b[0m \u001b[0mmutpb\u001b[0m\u001b[0;34m)\u001b[0m\u001b[0;34m\u001b[0m\u001b[0;34m\u001b[0m\u001b[0m\n\u001b[0m\u001b[1;32m    317\u001b[0m \u001b[0;34m\u001b[0m\u001b[0m\n\u001b[1;32m    318\u001b[0m         \u001b[0;31m# Evaluate the individuals with an invalid fitness\u001b[0m\u001b[0;34m\u001b[0m\u001b[0;34m\u001b[0m\u001b[0;34m\u001b[0m\u001b[0m\n",
      "\u001b[0;32m~/anaconda3/lib/python3.7/site-packages/deap/algorithms.py\u001b[0m in \u001b[0;36mvarOr\u001b[0;34m(population, toolbox, lambda_, cxpb, mutpb)\u001b[0m\n\u001b[1;32m    237\u001b[0m         \u001b[0;32melif\u001b[0m \u001b[0mop_choice\u001b[0m \u001b[0;34m<\u001b[0m \u001b[0mcxpb\u001b[0m \u001b[0;34m+\u001b[0m \u001b[0mmutpb\u001b[0m\u001b[0;34m:\u001b[0m  \u001b[0;31m# Apply mutation\u001b[0m\u001b[0;34m\u001b[0m\u001b[0;34m\u001b[0m\u001b[0m\n\u001b[1;32m    238\u001b[0m             \u001b[0mind\u001b[0m \u001b[0;34m=\u001b[0m \u001b[0mtoolbox\u001b[0m\u001b[0;34m.\u001b[0m\u001b[0mclone\u001b[0m\u001b[0;34m(\u001b[0m\u001b[0mrandom\u001b[0m\u001b[0;34m.\u001b[0m\u001b[0mchoice\u001b[0m\u001b[0;34m(\u001b[0m\u001b[0mpopulation\u001b[0m\u001b[0;34m)\u001b[0m\u001b[0;34m)\u001b[0m\u001b[0;34m\u001b[0m\u001b[0;34m\u001b[0m\u001b[0m\n\u001b[0;32m--> 239\u001b[0;31m             \u001b[0mind\u001b[0m\u001b[0;34m,\u001b[0m \u001b[0;34m=\u001b[0m \u001b[0mtoolbox\u001b[0m\u001b[0;34m.\u001b[0m\u001b[0mmutate\u001b[0m\u001b[0;34m(\u001b[0m\u001b[0mind\u001b[0m\u001b[0;34m)\u001b[0m\u001b[0;34m\u001b[0m\u001b[0;34m\u001b[0m\u001b[0m\n\u001b[0m\u001b[1;32m    240\u001b[0m             \u001b[0;32mdel\u001b[0m \u001b[0mind\u001b[0m\u001b[0;34m.\u001b[0m\u001b[0mfitness\u001b[0m\u001b[0;34m.\u001b[0m\u001b[0mvalues\u001b[0m\u001b[0;34m\u001b[0m\u001b[0;34m\u001b[0m\u001b[0m\n\u001b[1;32m    241\u001b[0m             \u001b[0moffspring\u001b[0m\u001b[0;34m.\u001b[0m\u001b[0mappend\u001b[0m\u001b[0;34m(\u001b[0m\u001b[0mind\u001b[0m\u001b[0;34m)\u001b[0m\u001b[0;34m\u001b[0m\u001b[0;34m\u001b[0m\u001b[0m\n",
      "\u001b[0;32m~/anaconda3/lib/python3.7/site-packages/deap/tools/mutation.py\u001b[0m in \u001b[0;36mmutPolynomialBounded\u001b[0;34m(individual, eta, low, up, indpb)\u001b[0m\n\u001b[1;32m     90\u001b[0m \u001b[0;34m\u001b[0m\u001b[0m\n\u001b[1;32m     91\u001b[0m             \u001b[0mx\u001b[0m \u001b[0;34m=\u001b[0m \u001b[0mx\u001b[0m \u001b[0;34m+\u001b[0m \u001b[0mdelta_q\u001b[0m \u001b[0;34m*\u001b[0m \u001b[0;34m(\u001b[0m\u001b[0mxu\u001b[0m \u001b[0;34m-\u001b[0m \u001b[0mxl\u001b[0m\u001b[0;34m)\u001b[0m\u001b[0;34m\u001b[0m\u001b[0;34m\u001b[0m\u001b[0m\n\u001b[0;32m---> 92\u001b[0;31m             \u001b[0mx\u001b[0m \u001b[0;34m=\u001b[0m \u001b[0mmin\u001b[0m\u001b[0;34m(\u001b[0m\u001b[0mmax\u001b[0m\u001b[0;34m(\u001b[0m\u001b[0mx\u001b[0m\u001b[0;34m,\u001b[0m \u001b[0mxl\u001b[0m\u001b[0;34m)\u001b[0m\u001b[0;34m,\u001b[0m \u001b[0mxu\u001b[0m\u001b[0;34m)\u001b[0m\u001b[0;34m\u001b[0m\u001b[0;34m\u001b[0m\u001b[0m\n\u001b[0m\u001b[1;32m     93\u001b[0m             \u001b[0mindividual\u001b[0m\u001b[0;34m[\u001b[0m\u001b[0mi\u001b[0m\u001b[0;34m]\u001b[0m \u001b[0;34m=\u001b[0m \u001b[0mx\u001b[0m\u001b[0;34m\u001b[0m\u001b[0;34m\u001b[0m\u001b[0m\n\u001b[1;32m     94\u001b[0m     \u001b[0;32mreturn\u001b[0m \u001b[0mindividual\u001b[0m\u001b[0;34m,\u001b[0m\u001b[0;34m\u001b[0m\u001b[0;34m\u001b[0m\u001b[0m\n",
      "\u001b[0;31mTypeError\u001b[0m: '>' not supported between instances of 'float' and 'complex'"
     ]
    }
   ],
   "source": [
    "initial_l1 = wavelength / 2\n",
    "initial_x1 = wavelength / 2\n",
    "initial_tau = 0.8\n",
    "\n",
    "print(f\"Wavelength is {wavelength:.4f}m, initial length is {initial_l1:.4f}m\")\n",
    "print(\"Unoptimized antenna...\")\n",
    "show_report(initial_l1, initial_x1, initial_tau)\n",
    "\n",
    "print(\"Optimizing antenna with NSGA-II...\")\n",
    "pop, stats, hof = main()\n",
    "\n",
    "best_ind = hof[0]\n",
    "optimized_l1, optimized_x1, optimized_tau = best_ind[0], best_ind[1], best_ind[2]\n",
    "\n",
    "print(\"Optimized antenna...\")\n",
    "show_report(optimized_l1, optimized_x1, optimized_tau)\n",
    "\n",
    "plot_pareto_front(pop)"
   ]
  },
  {
   "cell_type": "markdown",
   "metadata": {},
   "source": [
    "# Algoritmo próprio\n",
    "\n",
    "## Operador de cruzamento"
   ]
  },
  {
   "cell_type": "code",
   "execution_count": null,
   "metadata": {},
   "outputs": [],
   "source": [
    "def crossover(parent1, parent2, alpha=0.5):\n",
    "    child1 = alpha * np.array(parent1) + (1 - alpha) * np.array(parent2)\n",
    "    child2 = alpha * np.array(parent2) + (1 - alpha) * np.array(parent1)\n",
    "    return child1.tolist(), child2.tolist()"
   ]
  },
  {
   "cell_type": "markdown",
   "metadata": {},
   "source": [
    "## Operador de mutação"
   ]
  },
  {
   "cell_type": "code",
   "execution_count": null,
   "metadata": {},
   "outputs": [],
   "source": [
    "def mutate(individual, low=[0.01, 0.01, 0.7], up=[0.2, 0.2, 0.9], eta=0.1):\n",
    "    for i in range(len(individual)):\n",
    "        if np.random.rand() < 0.2:  # Taxa de mutação\n",
    "            individual[i] += np.random.uniform(-eta, eta)\n",
    "            individual[i] = max(min(individual[i], up[i]), low[i])\n",
    "    return individual"
   ]
  },
  {
   "cell_type": "markdown",
   "metadata": {},
   "source": [
    "## Ranking e Crowding Distance"
   ]
  },
  {
   "cell_type": "code",
   "execution_count": null,
   "metadata": {},
   "outputs": [],
   "source": [
    "def fast_non_dominated_sort(values1, values2):\n",
    "    S = [[] for _ in range(len(values1))]\n",
    "    front = [[]]\n",
    "    n = [0] * len(values1)\n",
    "    rank = [0] * len(values1)\n",
    "\n",
    "    for p in range(len(values1)):\n",
    "        S[p] = []\n",
    "        for q in range(len(values1)):\n",
    "            if (values1[p] < values1[q] and values2[p] < values2[q]) or (values1[p] <= values1[q] and values2[p] < values2[q]) or (values1[p] < values1[q] and values2[p] <= values2[q]):\n",
    "                if q not in S[p]:\n",
    "                    S[p].append(q)\n",
    "            elif (values1[q] < values1[p] and values2[q] < values2[p]) or (values1[q] <= values1[p] and values2[q] < values2[p]) or (values1[q] < values1[p] and values2[q] <= values2[p]):\n",
    "                n[p] += 1\n",
    "        if n[p] == 0:\n",
    "            rank[p] = 0\n",
    "            if p not in front[0]:\n",
    "                front[0].append(p)\n",
    "\n",
    "    i = 0\n",
    "    while front[i] != []:\n",
    "        Q = []\n",
    "        for p in front[i]:\n",
    "            for q in S[p]:\n",
    "                n[q] -= 1\n",
    "                if n[q] == 0:\n",
    "                    rank[q] = i + 1\n",
    "                    if q not in Q:\n",
    "                        Q.append(q)\n",
    "        i += 1\n",
    "        front.append(Q)\n",
    "\n",
    "    del front[len(front)-1]\n",
    "\n",
    "    return front\n",
    "\n",
    "def crowding_distance(values1, values2, front):\n",
    "    distance = [0] * len(front)\n",
    "    sorted1 = np.argsort([values1[i] for i in front])\n",
    "    sorted2 = np.argsort([values2[i] for i in front])\n",
    "    distance[sorted1[0]] = distance[sorted1[-1]] = float('inf')\n",
    "    distance[sorted2[0]] = distance[sorted2[-1]] = float('inf')\n",
    "    for k in range(1, len(front) - 1):\n",
    "        distance[sorted1[k]] += (values1[sorted1[k+1]] - values1[sorted1[k-1]]) / (max(values1) - min(values1))\n",
    "        distance[sorted2[k]] += (values2[sorted2[k+1]] - values2[sorted2[k-1]]) / (max(values2) - min(values2))\n",
    "    return distance\n",
    "\n",
    "# Função para plotar o gráfico\n",
    "def get_pareto_front(population):\n",
    "    values1 = []\n",
    "    values2 = []\n",
    "    for ind in population:\n",
    "        f1, f2 = optimization_targets(ind)\n",
    "        values1.append(f1)\n",
    "        values2.append(f2)\n",
    "    \n",
    "    front = fast_non_dominated_sort(values1, values2)\n",
    "    pareto_front = []\n",
    "    for f in front[0]:\n",
    "        pareto_front.append(population[f])\n",
    "    return pareto_front"
   ]
  },
  {
   "cell_type": "markdown",
   "metadata": {},
   "source": [
    "## Seleção"
   ]
  },
  {
   "cell_type": "code",
   "execution_count": null,
   "metadata": {},
   "outputs": [],
   "source": [
    "def selection(pop, values1, values2):\n",
    "    front = fast_non_dominated_sort(values1, values2)\n",
    "    new_pop = []\n",
    "    for f in front:\n",
    "        if len(new_pop) + len(f) > len(pop):\n",
    "            distance = crowding_distance(values1, values2, f)\n",
    "            f = [x for _, x in sorted(zip(distance, f), reverse=True)]\n",
    "            new_pop.extend(f[:len(pop) - len(new_pop)])\n",
    "            break\n",
    "        else:\n",
    "            new_pop.extend(f)\n",
    "    return [pop[i] for i in new_pop]"
   ]
  },
  {
   "cell_type": "markdown",
   "metadata": {},
   "source": [
    "## Main"
   ]
  },
  {
   "cell_type": "code",
   "execution_count": null,
   "metadata": {},
   "outputs": [],
   "source": [
    "def main():\n",
    "    pop_size = 50\n",
    "    generations = 10\n",
    "    population = [[np.random.uniform(0.01, 0.2), np.random.uniform(0.01, 0.2), np.random.uniform(0.7, 0.9)] for _ in range(pop_size)]\n",
    "\n",
    "    for gen in range(generations):\n",
    "        values1 = []\n",
    "        values2 = []\n",
    "        for ind in population:\n",
    "            f1, f2 = optimization_targets(ind)\n",
    "            values1.append(f1)\n",
    "            values2.append(f2)\n",
    "        \n",
    "        new_population = []\n",
    "        while len(new_population) < pop_size:\n",
    "            parent_indices = np.random.choice(range(len(population)), 2, replace=False)\n",
    "            parent1 = population[parent_indices[0]]\n",
    "            parent2 = population[parent_indices[1]]\n",
    "            child1, child2 = crossover(parent1, parent2)\n",
    "            child1 = mutate(child1)\n",
    "            child2 = mutate(child2)\n",
    "            new_population.append(child1)\n",
    "            new_population.append(child2)\n",
    "        \n",
    "        population.extend(new_population)\n",
    "        values1 = []\n",
    "        values2 = []\n",
    "        for ind in population:\n",
    "            f1, f2 = optimization_targets(ind)\n",
    "            values1.append(f1)\n",
    "            values2.append(f2)\n",
    "        \n",
    "        population = selection(population, values1, values2)\n",
    "\n",
    "        print(f\"Generation {gen+1}:\")\n",
    "        print(f\"Best individual: {population[0]}, Fitness: {optimization_targets(population[0])}\")\n",
    "\n",
    "    return population"
   ]
  },
  {
   "cell_type": "code",
   "execution_count": null,
   "metadata": {},
   "outputs": [],
   "source": [
    "final_pop = main()\n",
    "best_ind = final_pop[0]\n",
    "print(\"Optimized antenna parameters:\", best_ind)\n",
    "# show_report(*best_ind)\n",
    "\n",
    "pareto_front = get_pareto_front(final_pop)\n",
    "\n",
    "gains = []\n",
    "vswrs = []\n",
    "for ind in pareto_front:\n",
    "    gains.append(optimization_targets(ind)[0])\n",
    "    vswrs.append(optimization_targets(ind)[1])\n",
    "\n",
    "plt.scatter(gains, vswrs)\n",
    "plt.xlabel('Gain')\n",
    "plt.ylabel('VSWR')\n",
    "plt.title('Pareto Front')\n",
    "plt.show()"
   ]
  }
 ],
 "metadata": {
  "kernelspec": {
   "display_name": "base",
   "language": "python",
   "name": "python3"
  },
  "language_info": {
   "codemirror_mode": {
    "name": "ipython",
    "version": 3
   },
   "file_extension": ".py",
   "mimetype": "text/x-python",
   "name": "python",
   "nbconvert_exporter": "python",
   "pygments_lexer": "ipython3",
   "version": "3.7.11"
  }
 },
 "nbformat": 4,
 "nbformat_minor": 2
}
