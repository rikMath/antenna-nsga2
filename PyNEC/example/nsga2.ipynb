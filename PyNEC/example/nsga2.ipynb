{
 "cells": [
  {
   "cell_type": "code",
   "execution_count": 19,
   "metadata": {},
   "outputs": [],
   "source": [
    "import numpy as np\n",
    "import random\n",
    "import matplotlib.pyplot as plt\n",
    "from deap import base, creator, tools, algorithms\n",
    "from PyNEC import *\n",
    "from antenna_util import *\n",
    "from context_clean import *\n",
    "import math"
   ]
  },
  {
   "cell_type": "code",
   "execution_count": 6,
   "metadata": {},
   "outputs": [],
   "source": [
    "brass_conductivity = 15600000 # mhos\n",
    "tl_impedance = 75.0\n",
    "frequency_ranges = ((2350, 2550), (4950, 5050))\n",
    "system_impedance = 50\n",
    "design_freq_mhz = 2450\n",
    "wavelength = 299792e3 / (design_freq_mhz * 1e6)"
   ]
  },
  {
   "cell_type": "code",
   "execution_count": 7,
   "metadata": {},
   "outputs": [],
   "source": [
    "def geometry_logperiodic(l_1, x_1, tau):\n",
    "    wire_radius = 0.00025 # 0.25 mm\n",
    "    nec = context_clean(nec_context())\n",
    "    nec.set_extended_thin_wire_kernel(True)\n",
    "    geo = geometry_clean(nec.get_geometry())\n",
    "\n",
    "    x_i = x_1\n",
    "    l_i = l_1\n",
    "    \n",
    "    dipole_center_segs = {}\n",
    "    dipoles_count = 6\n",
    "\n",
    "    for dipole_tag in range(1, dipoles_count + 1):\n",
    "        nr_segments = int(math.ceil(50*l_i/wavelength))\n",
    "        dipole_center_segs[dipole_tag] = nr_segments // 2 + 1\n",
    "        center = np.array([x_i, 0, 0])\n",
    "        half_height = np.array([0, 0, l_i/2.0])\n",
    "        top = center + half_height\n",
    "        bottom = center - half_height\n",
    "        geo.wire(tag_id=dipole_tag, nr_segments=nr_segments, src=bottom, dst=top, radius=wire_radius)\n",
    "        x_i = tau * x_i\n",
    "        l_i = tau * l_i\n",
    "\n",
    "    nec.set_wire_conductivity(brass_conductivity)\n",
    "    nec.geometry_complete(ground_plane=False)\n",
    "\n",
    "    for dipole in range(0, dipoles_count - 1):\n",
    "        src_tag = int(1 + dipole)\n",
    "        src_seg = dipole_center_segs[src_tag]\n",
    "        dst_tag = src_tag + 1\n",
    "        dst_seg = dipole_center_segs[dst_tag]\n",
    "        nec.transmission_line((src_tag, src_seg), (dst_tag, dst_seg), tl_impedance, crossed_line=True)\n",
    "\n",
    "    smallest_dipole_tag = dipoles_count\n",
    "    nec.voltage_excitation(wire_tag=smallest_dipole_tag, segment_nr=dipole_center_segs[smallest_dipole_tag], voltage=1.0)\n",
    "\n",
    "    return nec\n"
   ]
  },
  {
   "cell_type": "code",
   "execution_count": 8,
   "metadata": {},
   "outputs": [],
   "source": [
    "def get_gain_swr_range(l_1, x_1, tau, start=2300, stop=5900, step=10):\n",
    "    gains_db = []\n",
    "    frequencies = []\n",
    "    vswrs = []\n",
    "    for freq in range(start, stop + 1, step):\n",
    "        nec = geometry_logperiodic(l_1, x_1, tau)\n",
    "        nec.set_frequency(freq)\n",
    "        nec.radiation_pattern(thetas=Range(90, 90, count=1), phis=Range(180, 180, count=1))\n",
    "        rp = nec.context.get_radiation_pattern(0)\n",
    "        ipt = nec.get_input_parameters(0)\n",
    "        z = ipt.get_impedance()\n",
    "        gains_db.append(rp.get_gain()[0])\n",
    "        vswrs.append(vswr(z, system_impedance))\n",
    "        frequencies.append(ipt.get_frequency())\n",
    "\n",
    "    return frequencies, gains_db, vswrs"
   ]
  },
  {
   "cell_type": "code",
   "execution_count": 9,
   "metadata": {},
   "outputs": [],
   "source": [
    "# Função para calcular ganho e VSWR\n",
    "def get_gain_swr_range(l_1, x_1, tau, start=2300, stop=5900, step=10):\n",
    "    gains_db = []\n",
    "    frequencies = []\n",
    "    vswrs = []\n",
    "    for freq in range(start, stop + 1, step):\n",
    "        nec = geometry_logperiodic(l_1, x_1, tau)\n",
    "        nec.set_frequency(freq)\n",
    "        nec.radiation_pattern(thetas=Range(90, 90, count=1), phis=Range(180, 180, count=1))\n",
    "        rp = nec.context.get_radiation_pattern(0)\n",
    "        ipt = nec.get_input_parameters(0)\n",
    "        z = ipt.get_impedance()\n",
    "        gains_db.append(rp.get_gain()[0])\n",
    "        vswrs.append(vswr(z, system_impedance))\n",
    "        frequencies.append(ipt.get_frequency())\n",
    "    return frequencies, gains_db, vswrs\n"
   ]
  },
  {
   "cell_type": "code",
   "execution_count": 10,
   "metadata": {},
   "outputs": [],
   "source": [
    "def optimization_targets(args):\n",
    "    l_1, x_1, tau = args\n",
    "    if l_1 <= 0 or x_1 <= 0 or tau <= 0:\n",
    "        return float('inf'), float('inf')\n",
    "\n",
    "    try:\n",
    "        vswr_score = 0\n",
    "        gains_score = 0\n",
    "\n",
    "        for range_low, range_high in frequency_ranges:\n",
    "            freqs, gains, vswrs = get_gain_swr_range(l_1, x_1, tau, start=range_low, stop=range_high)\n",
    "            gains_score += sum(gains)\n",
    "            for vswr in vswrs:\n",
    "                if vswr >= 1.8:\n",
    "                    vswr = min(np.exp(vswr), 1e6)  # Evitar overflow\n",
    "                vswr_score += vswr\n",
    "                \n",
    "        result1 = - gains_score[0]\n",
    "        result2 = vswr_score\n",
    "\n",
    "    except Exception as e:\n",
    "        print(f\"Caught exception: {e}\")\n",
    "        return float('inf'), float('inf')\n",
    "\n",
    "    # Debugging output\n",
    "    if not np.isscalar(result1) or not np.isscalar(result2):\n",
    "        print(f\"Non-scalar fitness values detected: result1={result1}, result2={result2}\")\n",
    "\n",
    "    # check if is complex\n",
    "    if np.iscomplex(result1) or np.iscomplex(result2):\n",
    "        # return module of complex number\n",
    "        return np.abs(result1), np.abs(result2)\n",
    "\n",
    "    return result1, result2"
   ]
  },
  {
   "cell_type": "code",
   "execution_count": 11,
   "metadata": {},
   "outputs": [],
   "source": [
    "def real_values(args):\n",
    "    l_1, x_1, tau = args\n",
    "    if l_1 <= 0 or x_1 <= 0 or tau <= 0:\n",
    "        return float('inf'), float('inf')\n",
    "\n",
    "    try:\n",
    "        vswr_score = 0\n",
    "        gains_score = 0\n",
    "        iter = 0\n",
    "\n",
    "        for range_low, range_high in frequency_ranges:\n",
    "            freqs, gains, vswrs = get_gain_swr_range(l_1, x_1, tau, start=range_low, stop=range_high)\n",
    "            gains_score += sum(gains)\n",
    "            for vswr in vswrs:\n",
    "                vswr_score += vswr\n",
    "            \n",
    "            iter += 1\n",
    "                \n",
    "        result1 = - gains_score[0]\n",
    "        result2 = vswr_score\n",
    "\n",
    "    except Exception as e:\n",
    "        print(f\"Caught exception: {e}\")\n",
    "        return float('inf'), float('inf')\n",
    "\n",
    "    # Debugging output\n",
    "    if not np.isscalar(result1) or not np.isscalar(result2):\n",
    "        print(f\"Non-scalar fitness values detected: result1={result1}, result2={result2}\")\n",
    "\n",
    "    return result1/iter, result2/iter"
   ]
  },
  {
   "cell_type": "code",
   "execution_count": 12,
   "metadata": {},
   "outputs": [],
   "source": [
    "def simulate_and_get_impedance(nec):\n",
    "    nec.set_frequency(design_freq_mhz)\n",
    "    nec.xq_card(0)\n",
    "    index = 0\n",
    "    impedance = nec.get_input_parameters(index).get_impedance()\n",
    "    if isinstance(impedance, np.ndarray):\n",
    "        impedance = impedance[0]\n",
    "    return impedance\n",
    "\n",
    "system_impedance = 50\n",
    "design_freq_mhz = 2450\n",
    "wavelength = 299792e3 / (design_freq_mhz * 1e6)"
   ]
  },
  {
   "cell_type": "code",
   "execution_count": 13,
   "metadata": {},
   "outputs": [],
   "source": [
    "def draw_frequencie_ranges(ax):\n",
    "    ax.axvline(x=frequency_ranges[0][0], color='red', linewidth=1)\n",
    "    ax.axvline(x=frequency_ranges[0][1], color='red', linewidth=1)\n",
    "    ax.axvline(x=frequency_ranges[1][0], color='red', linewidth=1)\n",
    "    ax.axvline(x=frequency_ranges[1][1], color='red', linewidth=1)"
   ]
  },
  {
   "cell_type": "code",
   "execution_count": 14,
   "metadata": {},
   "outputs": [],
   "source": [
    "def show_report(l1, x1, tau):\n",
    "    nec = geometry_logperiodic(l1, x1, tau)\n",
    "    z = simulate_and_get_impedance(nec)\n",
    "    print(f\"Initial impedance: ({z.real:.1f},{z.imag:+.1f}I) Ohms\")\n",
    "    print(f\"VSWR @ 50 Ohm is {vswr(z, 50):.6f}\")\n",
    "\n",
    "    freqs, gains, vswrs = get_gain_swr_range(l1, x1, tau, step=5)\n",
    "    freqs = np.array(freqs) / 1e6\n",
    "\n",
    "    fig, ax1 = plt.subplots()\n",
    "    ax1.plot(freqs, gains, 'b-')\n",
    "    ax1.set_xlabel('Frequency (MHz)')\n",
    "    ax1.set_ylabel('Gain (dB)', color='b')\n",
    "    draw_frequencie_ranges(ax1)\n",
    "\n",
    "    ax2 = ax1.twinx()\n",
    "    ax2.plot(freqs, vswrs, 'r-')\n",
    "    ax2.set_ylabel('VSWR', color='r')\n",
    "    ax2.set_yscale('log')\n",
    "\n",
    "    plt.title(\"Gain and VSWR of a 6-element log-periodic antenna\")\n",
    "    fig.tight_layout()\n",
    "    plt.show()"
   ]
  },
  {
   "cell_type": "code",
   "execution_count": 15,
   "metadata": {},
   "outputs": [],
   "source": [
    "def plot_pareto_front(pop):\n",
    "    \"\"\" Plots the Pareto front given a population \"\"\"\n",
    "    # pareto_front = np.array([ind.fitness.values for ind in pop])\n",
    "\n",
    "    # pareto front using real_values\n",
    "    pareto_front = np.array([real_values(ind) for ind in pop])\n",
    "\n",
    "    plt.scatter(pareto_front[:, 0], pareto_front[:, 1], c='r', label='Pareto Front')\n",
    "    plt.xlabel('VSWR Score - Gains Score')\n",
    "    plt.ylabel('VSWR Score')\n",
    "    plt.title('Pareto Front')\n",
    "    plt.legend()\n",
    "    plt.grid(True)\n",
    "    plt.show()"
   ]
  },
  {
   "cell_type": "code",
   "execution_count": 20,
   "metadata": {},
   "outputs": [],
   "source": [
    "creator.create(\"FitnessMulti\", base.Fitness, weights=(-1.0, -5.0))\n",
    "creator.create(\"Individual\", list, fitness=creator.FitnessMulti)\n",
    "\n",
    "toolbox = base.Toolbox()\n",
    "toolbox.register(\"attr_float_l1\", np.random.uniform, 0.01, 0.2)\n",
    "toolbox.register(\"attr_float_x1\", np.random.uniform, 0.01, 0.2)\n",
    "toolbox.register(\"attr_float_tau\", np.random.uniform, 0.7, 0.9)\n",
    "toolbox.register(\"individual\", tools.initCycle, creator.Individual, \n",
    "                 (toolbox.attr_float_l1, toolbox.attr_float_x1, toolbox.attr_float_tau), n=1)\n",
    "toolbox.register(\"population\", tools.initRepeat, list, toolbox.individual)\n",
    "\n",
    "toolbox.register(\"evaluate\", optimization_targets)\n",
    "toolbox.register(\"mate\", tools.cxBlend, alpha=0.5)\n",
    "toolbox.register(\"mutate\", tools.mutPolynomialBounded, low=[0.01, 0.01, 0.7], up=[0.2, 0.2, 0.9], eta=0.1, indpb=0.2)\n",
    "toolbox.register(\"select\", tools.selNSGA2)\n",
    "\n",
    "def main():\n",
    "    pop = toolbox.population(n=50)\n",
    "    hof = tools.HallOfFame(1)\n",
    "\n",
    "    stats = tools.Statistics(lambda ind: ind.fitness.values)\n",
    "    stats.register(\"avg\", np.mean, axis=0)\n",
    "    stats.register(\"std\", np.std, axis=0)\n",
    "    stats.register(\"min\", np.min, axis=0)\n",
    "    stats.register(\"max\", np.max, axis=0)\n",
    "\n",
    "    algorithms.eaMuPlusLambda(pop, toolbox, mu=50, lambda_=100, cxpb=0.7, mutpb=0.2, ngen=50, stats=stats, halloffame=hof, verbose=True)\n",
    "\n",
    "    return pop, stats, hof"
   ]
  },
  {
   "cell_type": "code",
   "execution_count": 24,
   "metadata": {},
   "outputs": [
    {
     "name": "stdout",
     "output_type": "stream",
     "text": [
      "Wavelength is 0.1224m, initial length is 0.0612m\n",
      "Unoptimized antenna...\n",
      "Initial impedance: (84.7,+4.8I) Ohms\n",
      "VSWR @ 50 Ohm is 1.702385\n"
     ]
    },
    {
     "data": {
      "image/png": "[encoded data removed]",
      "text/plain": [
       "<Figure size 432x288 with 2 Axes>"
      ]
     },
     "metadata": {
      "needs_background": "light"
     },
     "output_type": "display_data"
    },
    {
     "name": "stdout",
     "output_type": "stream",
     "text": [
      "Optimizing antenna with NSGA-II...\n"
     ]
    },
    {
     "name": "stderr",
     "output_type": "stream",
     "text": [
      "/home/henrique/anaconda3/lib/python3.7/site-packages/ipykernel_launcher.py:15: RuntimeWarning: overflow encountered in exp\n",
      "  from ipykernel import kernelapp as app\n"
     ]
    },
    {
     "name": "stdout",
     "output_type": "stream",
     "text": [
      "gen\tnevals\tavg                              \tstd                            \tmin                          \tmax                            \n",
      "0  \t50    \t[-8.05038338e+01  6.96218886e+06]\t[8.75217723e+01 9.07647954e+06]\t[-221.70909578   43.1795506 ]\t[1.66329226e+02 2.11376155e+07]\n",
      "1  \t90    \t[-1.63922219e+02  1.32930288e+06]\t[4.34848109e+01 4.27515198e+06]\t[-236.17827064   40.41262302]\t[-3.42294056e+01  2.10000829e+07]\n",
      "2  \t90    \t[-183.14671122  861.79434266]    \t[  41.57321045 3690.60369791]  \t[-245.24779202   40.41262302]\t[  -34.2294056 25458.2265817]    \n",
      "3  \t91    \t[-193.04219253  186.56831871]    \t[ 47.96187995 184.36464303]    \t[-245.24779202   40.41262302]\t[-31.95683997 852.59110197]      \n",
      "4  \t92    \t[-192.03956301  123.7070932 ]    \t[ 49.91782414 132.66508384]    \t[-245.24779202   40.41262302]\t[-34.2294056  506.82761162]      \n",
      "5  \t92    \t[-200.17345149  132.33983701]    \t[ 50.14354435 167.74053288]    \t[-246.06149162   40.41262302]\t[-34.2294056  506.82761162]      \n",
      "6  \t91    \t[-215.43992655   62.3827764 ]    \t[21.97040707 39.55059693]      \t[-246.06149162   39.50456935]\t[-179.48411819  273.61593066]    \n",
      "7  \t85    \t[-226.11374068   75.12536013]    \t[17.79805402 47.91481693]      \t[-246.06149162   39.06375821]\t[-176.07902769  273.61593066]    \n",
      "8  \t91    \t[-221.79070866   56.92918719]    \t[23.97231799 26.58345637]      \t[-246.06149162   36.29169863]\t[-148.48033953  145.09650456]    \n",
      "9  \t92    \t[-223.61395002   51.70851224]    \t[23.92748767 22.9138017 ]      \t[-246.06149162   36.16662748]\t[-148.48033953  116.3363857 ]    \n",
      "10 \t89    \t[-228.35943858   46.58785197]    \t[21.05567084 16.8236394 ]      \t[-246.06149162   36.16662748]\t[-148.48033953  102.20548071]    \n",
      "11 \t88    \t[-233.13927426   49.66029566]    \t[17.52593662 18.51353588]      \t[-246.06149162   36.16662748]\t[-197.84239565   96.97216879]    \n",
      "12 \t90    \t[-229.28128586   47.0651706 ]    \t[20.38062815 14.59622305]      \t[-246.2477836    36.16662748]\t[-197.84239565   91.29335934]    \n",
      "13 \t86    \t[-224.74228776   45.27293812]    \t[20.99188774 15.55431712]      \t[-246.37955153   36.16662748]\t[-194.30625939   91.29335934]    \n",
      "14 \t86    \t[-216.95152628   43.26642825]    \t[19.91244634 12.76840028]      \t[-246.37955153   36.16662748]\t[-198.26397923   85.0735723 ]    \n",
      "15 \t87    \t[-213.69614331   40.62463904]    \t[17.4100506   9.65795076]      \t[-246.37955153   36.15804009]\t[-196.41016802   84.9011425 ]    \n",
      "16 \t91    \t[-216.86820014   41.53074329]    \t[19.06480047 10.08885848]      \t[-246.37955153   36.15804009]\t[-196.41016802   84.9011425 ]    \n",
      "17 \t90    \t[-223.13018853   44.27402975]    \t[19.97136188 11.39663487]      \t[-246.37955153   36.15804009]\t[-196.41016802   84.9011425 ]    \n",
      "18 \t84    \t[-221.1741579    43.24223196]    \t[19.39206905 11.43331554]      \t[-246.37955153   36.15804009]\t[-196.41016802   84.9011425 ]    \n",
      "19 \t91    \t[-220.09016062   42.79400898]    \t[19.37315227 11.63897291]      \t[-246.37955153   36.15804009]\t[-196.41016802   84.9011425 ]    \n",
      "20 \t93    \t[-221.83535095   43.82330438]    \t[19.65890495 12.98738866]      \t[-246.37955153   36.15804009]\t[-196.41016802   84.9011425 ]    \n",
      "21 \t90    \t[-220.9488993    43.83686249]    \t[19.80719694 11.67376158]      \t[-246.52501998   36.15804009]\t[-196.41016802   78.86962176]    \n",
      "22 \t83    \t[-220.15054525   43.11445621]    \t[19.59505654 11.93883318]      \t[-246.52501998   36.15804009]\t[-196.41016802   78.86962176]    \n",
      "23 \t90    \t[-220.24220877   43.08209416]    \t[19.37396053 11.98416631]      \t[-246.52501998   36.15675064]\t[-197.44206976   78.86962176]    \n",
      "24 \t92    \t[-217.91714308   43.15824252]    \t[18.70824892 12.45863302]      \t[-246.52501998   36.15675064]\t[-197.44206976   78.86962176]    \n",
      "25 \t88    \t[-220.42555577   43.00760327]    \t[20.14524671 11.18035889]      \t[-246.52501998   36.15375527]\t[-195.76956958   78.86962176]    \n",
      "26 \t89    \t[-217.36278504   42.28415417]    \t[19.99371341 11.36327594]      \t[-246.55571131   36.15375527]\t[-195.76956958   80.28407034]    \n",
      "27 \t93    \t[-220.05962416   42.91498392]    \t[19.64002829 11.6094059 ]      \t[-246.55571131   36.15375527]\t[-195.76956958   80.28407034]    \n",
      "28 \t94    \t[-219.54502335   43.01141865]    \t[19.30537663 11.82427965]      \t[-246.55571131   36.15375527]\t[-195.76956958   80.28407034]    \n",
      "29 \t92    \t[-222.10740974   43.84087861]    \t[19.79414573 11.95114462]      \t[-246.55571131   36.15375527]\t[-195.76956958   80.28407034]    \n",
      "30 \t94    \t[-224.16785289   45.04944884]    \t[20.40451698 12.41067194]      \t[-246.55571131   36.15375527]\t[-195.76956958   80.28407034]    \n",
      "31 \t96    \t[-223.2507422    44.46663726]    \t[20.37064924 12.53215804]      \t[-246.55571131   36.15375527]\t[-195.76956958   80.28407034]    \n",
      "32 \t90    \t[-226.24232006   46.39119644]    \t[20.79855041 13.63546466]      \t[-246.55571131   36.15375527]\t[-195.76956958   80.28407034]    \n",
      "33 \t94    \t[-224.60290174   45.16445479]    \t[20.79016265 12.69332971]      \t[-246.55571131   36.15375527]\t[-195.76956958   80.28407034]    \n",
      "34 \t92    \t[-225.28474621   46.578733  ]    \t[20.86839157 14.43136763]      \t[-246.55571131   36.15375527]\t[-195.76956958   80.28407034]    \n",
      "35 \t93    \t[-228.14098294   47.24471073]    \t[20.2021157  14.25597095]      \t[-246.55571131   36.15375527]\t[-195.76956958   80.28407034]    \n",
      "36 \t93    \t[-226.47704197   44.75876998]    \t[20.32399725 12.03120658]      \t[-246.59637093   36.15375527]\t[-195.76956958   79.25314711]    \n",
      "37 \t93    \t[-226.08457275   46.08177706]    \t[20.82379605 13.14394218]      \t[-246.59637093   36.15375527]\t[-195.76956958   79.25314711]    \n",
      "38 \t94    \t[-227.089826     46.26196389]    \t[20.5728317  13.24013857]      \t[-246.59637093   36.15375527]\t[-195.76956958   79.25314711]    \n",
      "39 \t94    \t[-223.96625061   44.71707708]    \t[21.20352875 12.88900194]      \t[-246.59637093   36.15375527]\t[-195.76956958   79.25314711]    \n",
      "40 \t92    \t[-226.10689794   46.03212529]    \t[20.76506614 13.57631749]      \t[-246.59637093   36.15375527]\t[-195.76956958   79.25314711]    \n",
      "41 \t93    \t[-223.44509928   43.43025196]    \t[20.82935662 10.80611437]      \t[-246.60711501   36.15375527]\t[-195.76956958   73.63357284]    \n",
      "42 \t91    \t[-224.47278876   43.65397604]    \t[20.72205002 10.76756531]      \t[-246.60711501   36.15375527]\t[-195.76956958   73.63357284]    \n",
      "43 \t84    \t[-224.53953483   43.76497521]    \t[21.29140033 10.77808762]      \t[-246.60711501   36.15193469]\t[-193.44484445   73.63357284]    \n",
      "44 \t92    \t[-229.7367962    45.38537316]    \t[20.54055853 10.7483805 ]      \t[-246.60711501   36.15193469]\t[-193.44484445   73.63357284]    \n",
      "45 \t92    \t[-223.32430491   70.76273106]    \t[ 21.0234042  193.11849935]    \t[-250.21554366   36.15193469]\t[-193.44484445 1420.42994944]    \n",
      "46 \t92    \t[-216.44415627   66.81983947]    \t[ 19.32857134 193.50121867]    \t[-250.21554366   36.15193469]\t[-193.44484445 1420.42994944]    \n",
      "47 \t86    \t[-212.54902059   66.32388372]    \t[ 17.0393831 193.5678355]      \t[-250.21554366   36.15193469]\t[-193.44484445 1420.42994944]    \n",
      "48 \t91    \t[-215.09680237   67.7965871 ]    \t[ 19.52037499 193.44707197]    \t[-250.21554366   36.15193469]\t[-193.44484445 1420.42994944]    \n",
      "49 \t90    \t[-213.6184189    94.81025146]    \t[ 18.84776797 270.7451079 ]    \t[-250.21554366   36.15193469]\t[-193.44484445 1420.42994944]    \n",
      "50 \t84    \t[-215.0904828   112.36000383]    \t[ 20.20982148 288.7963185 ]    \t[-250.21554366   36.15193469]\t[-193.44484445 1420.42994944]    \n",
      "Optimized antenna...\n",
      "Initial impedance: (64.3,-9.5I) Ohms\n",
      "VSWR @ 50 Ohm is 1.352641\n"
     ]
    },
    {
     "data": {
      "image/png": "[encoded data removed]",
      "text/plain": [
       "<Figure size 432x288 with 2 Axes>"
      ]
     },
     "metadata": {
      "needs_background": "light"
     },
     "output_type": "display_data"
    },
    {
     "data": {
      "image/png": "[encoded data removed]",
      "text/plain": [
       "<Figure size 432x288 with 1 Axes>"
      ]
     },
     "metadata": {
      "needs_background": "light"
     },
     "output_type": "display_data"
    }
   ],
   "source": [
    "initial_l1 = wavelength / 2\n",
    "initial_x1 = wavelength / 2\n",
    "initial_tau = 0.8\n",
    "\n",
    "print(f\"Wavelength is {wavelength:.4f}m, initial length is {initial_l1:.4f}m\")\n",
    "print(\"Unoptimized antenna...\")\n",
    "show_report(initial_l1, initial_x1, initial_tau)\n",
    "\n",
    "print(\"Optimizing antenna with NSGA-II...\")\n",
    "pop, stats, hof = main()\n",
    "\n",
    "best_ind = hof[0]\n",
    "optimized_l1, optimized_x1, optimized_tau = best_ind[0], best_ind[1], best_ind[2]\n",
    "\n",
    "print(\"Optimized antenna...\")\n",
    "show_report(optimized_l1, optimized_x1, optimized_tau)\n",
    "\n",
    "plot_pareto_front(pop)"
   ]
  },
  {
   "cell_type": "markdown",
   "metadata": {},
   "source": [
    "# Algoritmo próprio\n",
    "\n",
    "## Operador de cruzamento"
   ]
  },
  {
   "cell_type": "code",
   "execution_count": null,
   "metadata": {},
   "outputs": [],
   "source": [
    "def crossover(parent1, parent2, alpha=0.5):\n",
    "    child1 = alpha * np.array(parent1) + (1 - alpha) * np.array(parent2)\n",
    "    child2 = alpha * np.array(parent2) + (1 - alpha) * np.array(parent1)\n",
    "    return child1.tolist(), child2.tolist()"
   ]
  },
  {
   "cell_type": "markdown",
   "metadata": {},
   "source": [
    "## Operador de mutação"
   ]
  },
  {
   "cell_type": "code",
   "execution_count": null,
   "metadata": {},
   "outputs": [],
   "source": [
    "def mutate(individual, low=[0.01, 0.01, 0.7], up=[0.2, 0.2, 0.9], eta=0.1):\n",
    "    for i in range(len(individual)):\n",
    "        if np.random.rand() < 0.2:  # Taxa de mutação\n",
    "            individual[i] += np.random.uniform(-eta, eta)\n",
    "            individual[i] = max(min(individual[i], up[i]), low[i])\n",
    "    return individual"
   ]
  },
  {
   "cell_type": "markdown",
   "metadata": {},
   "source": [
    "## Ranking e Crowding Distance"
   ]
  },
  {
   "cell_type": "code",
   "execution_count": null,
   "metadata": {},
   "outputs": [],
   "source": [
    "def fast_non_dominated_sort(values1, values2):\n",
    "    S = [[] for _ in range(len(values1))]\n",
    "    front = [[]]\n",
    "    n = [0] * len(values1)\n",
    "    rank = [0] * len(values1)\n",
    "\n",
    "    for p in range(len(values1)):\n",
    "        S[p] = []\n",
    "        for q in range(len(values1)):\n",
    "            if (values1[p] < values1[q] and values2[p] < values2[q]) or (values1[p] <= values1[q] and values2[p] < values2[q]) or (values1[p] < values1[q] and values2[p] <= values2[q]):\n",
    "                if q not in S[p]:\n",
    "                    S[p].append(q)\n",
    "            elif (values1[q] < values1[p] and values2[q] < values2[p]) or (values1[q] <= values1[p] and values2[q] < values2[p]) or (values1[q] < values1[p] and values2[q] <= values2[p]):\n",
    "                n[p] += 1\n",
    "        if n[p] == 0:\n",
    "            rank[p] = 0\n",
    "            if p not in front[0]:\n",
    "                front[0].append(p)\n",
    "\n",
    "    i = 0\n",
    "    while front[i] != []:\n",
    "        Q = []\n",
    "        for p in front[i]:\n",
    "            for q in S[p]:\n",
    "                n[q] -= 1\n",
    "                if n[q] == 0:\n",
    "                    rank[q] = i + 1\n",
    "                    if q not in Q:\n",
    "                        Q.append(q)\n",
    "        i += 1\n",
    "        front.append(Q)\n",
    "\n",
    "    del front[len(front)-1]\n",
    "\n",
    "    return front\n",
    "\n",
    "def crowding_distance(values1, values2, front):\n",
    "    distance = [0] * len(front)\n",
    "    sorted1 = np.argsort([values1[i] for i in front])\n",
    "    sorted2 = np.argsort([values2[i] for i in front])\n",
    "    distance[sorted1[0]] = distance[sorted1[-1]] = float('inf')\n",
    "    distance[sorted2[0]] = distance[sorted2[-1]] = float('inf')\n",
    "    for k in range(1, len(front) - 1):\n",
    "        distance[sorted1[k]] += (values1[sorted1[k+1]] - values1[sorted1[k-1]]) / (max(values1) - min(values1))\n",
    "        distance[sorted2[k]] += (values2[sorted2[k+1]] - values2[sorted2[k-1]]) / (max(values2) - min(values2))\n",
    "    return distance\n",
    "\n",
    "# Função para plotar o gráfico\n",
    "def get_pareto_front(population):\n",
    "    values1 = []\n",
    "    values2 = []\n",
    "    for ind in population:\n",
    "        f1, f2 = optimization_targets(ind)\n",
    "        values1.append(f1)\n",
    "        values2.append(f2)\n",
    "    \n",
    "    front = fast_non_dominated_sort(values1, values2)\n",
    "    pareto_front = []\n",
    "    for f in front[0]:\n",
    "        pareto_front.append(population[f])\n",
    "    return pareto_front"
   ]
  },
  {
   "cell_type": "markdown",
   "metadata": {},
   "source": [
    "## Seleção"
   ]
  },
  {
   "cell_type": "code",
   "execution_count": null,
   "metadata": {},
   "outputs": [],
   "source": [
    "def selection(pop, values1, values2):\n",
    "    front = fast_non_dominated_sort(values1, values2)\n",
    "    new_pop = []\n",
    "    for f in front:\n",
    "        if len(new_pop) + len(f) > len(pop):\n",
    "            distance = crowding_distance(values1, values2, f)\n",
    "            f = [x for _, x in sorted(zip(distance, f), reverse=True)]\n",
    "            new_pop.extend(f[:len(pop) - len(new_pop)])\n",
    "            break\n",
    "        else:\n",
    "            new_pop.extend(f)\n",
    "    return [pop[i] for i in new_pop]"
   ]
  },
  {
   "cell_type": "markdown",
   "metadata": {},
   "source": [
    "## Main"
   ]
  },
  {
   "cell_type": "code",
   "execution_count": null,
   "metadata": {},
   "outputs": [],
   "source": [
    "def main():\n",
    "    pop_size = 50\n",
    "    generations = 10\n",
    "    population = [[np.random.uniform(0.01, 0.2), np.random.uniform(0.01, 0.2), np.random.uniform(0.7, 0.9)] for _ in range(pop_size)]\n",
    "\n",
    "    for gen in range(generations):\n",
    "        values1 = []\n",
    "        values2 = []\n",
    "        for ind in population:\n",
    "            f1, f2 = optimization_targets(ind)\n",
    "            values1.append(f1)\n",
    "            values2.append(f2)\n",
    "        \n",
    "        new_population = []\n",
    "        while len(new_population) < pop_size:\n",
    "            parent_indices = np.random.choice(range(len(population)), 2, replace=False)\n",
    "            parent1 = population[parent_indices[0]]\n",
    "            parent2 = population[parent_indices[1]]\n",
    "            child1, child2 = crossover(parent1, parent2)\n",
    "            child1 = mutate(child1)\n",
    "            child2 = mutate(child2)\n",
    "            new_population.append(child1)\n",
    "            new_population.append(child2)\n",
    "        \n",
    "        population.extend(new_population)\n",
    "        values1 = []\n",
    "        values2 = []\n",
    "        for ind in population:\n",
    "            f1, f2 = optimization_targets(ind)\n",
    "            values1.append(f1)\n",
    "            values2.append(f2)\n",
    "        \n",
    "        population = selection(population, values1, values2)\n",
    "\n",
    "        print(f\"Generation {gen+1}:\")\n",
    "        print(f\"Best individual: {population[0]}, Fitness: {optimization_targets(population[0])}\")\n",
    "\n",
    "    return population"
   ]
  },
  {
   "cell_type": "code",
   "execution_count": null,
   "metadata": {},
   "outputs": [],
   "source": [
    "final_pop = main()\n",
    "best_ind = final_pop[0]\n",
    "print(\"Optimized antenna parameters:\", best_ind)\n",
    "# show_report(*best_ind)\n",
    "\n",
    "pareto_front = get_pareto_front(final_pop)\n",
    "\n",
    "gains = []\n",
    "vswrs = []\n",
    "for ind in pareto_front:\n",
    "    gains.append(optimization_targets(ind)[0])\n",
    "    vswrs.append(optimization_targets(ind)[1])\n",
    "\n",
    "plt.scatter(gains, vswrs)\n",
    "plt.xlabel('Gain')\n",
    "plt.ylabel('VSWR')\n",
    "plt.title('Pareto Front')\n",
    "plt.show()"
   ]
  }
 ],
 "metadata": {
  "kernelspec": {
   "display_name": "base",
   "language": "python",
   "name": "python3"
  },
  "language_info": {
   "codemirror_mode": {
    "name": "ipython",
    "version": 3
   },
   "file_extension": ".py",
   "mimetype": "text/x-python",
   "name": "python",
   "nbconvert_exporter": "python",
   "pygments_lexer": "ipython3",
   "version": "3.7.11"
  }
 },
 "nbformat": 4,
 "nbformat_minor": 2
}
